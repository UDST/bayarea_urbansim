{
 "metadata": {
  "name": "",
  "signature": "sha256:a9220cd26ad83910209384bef29ddf79b3d9f7114aa67cad4627029a7214e45b"
 },
 "nbformat": 3,
 "nbformat_minor": 0,
 "worksheets": [
  {
   "cells": [
    {
     "cell_type": "code",
     "collapsed": true,
     "input": [
      "%load_ext autoreload\n",
      "%autoreload 2\n",
      "import models, utils\n",
      "import urbansim.sim.simulation as sim"
     ],
     "language": "python",
     "metadata": {},
     "outputs": [
      {
       "output_type": "stream",
       "stream": "stdout",
       "text": [
        "The autoreload extension is already loaded. To reload it, use:\n",
        "  %reload_ext autoreload\n"
       ]
      }
     ],
     "prompt_number": 4
    },
    {
     "cell_type": "code",
     "collapsed": false,
     "input": [
      "sim.run(['build_networks'])"
     ],
     "language": "python",
     "metadata": {},
     "outputs": [
      {
       "output_type": "stream",
       "stream": "stdout",
       "text": [
        "Running model 'build_networks'\n"
       ]
      }
     ],
     "prompt_number": 5
    },
    {
     "cell_type": "code",
     "collapsed": true,
     "input": [
      "sim.run([\n",
      "    \"neighborhood_vars\",         # accessibility variables\n",
      "\n",
      "    \"rsh_simulate\",              # residential sales hedonic\n",
      "    \"rrh_simulate\",              # residenital rent hedonic\n",
      "    \"nrh_simulate\",              # non-residential rent hedonic\n",
      "\n",
      "    \"households_relocation\",     # households relocation model\n",
      "    \"hlcmo_simulate\",            # households location choice (owner)\n",
      "    \"hlcmr_simulate\",            # households location choice (renter)\n",
      "    \"households_transition\",     # households transition\n",
      "\n",
      "    \"jobs_relocation\",           # jobs relocation model\n",
      "    \"elcm_simulate\",             # employment location choice\n",
      "    \"jobs_transition\",           # jobs transition\n",
      "\n",
      "    \"price_vars\",                # compute average price measures\n",
      "\n",
      "    \"feasibility\",               # compute development feasibility\n",
      "    \"residential_developer\",     # build residential buildings\n",
      "    \"non_residential_developer\", # build non-residential buildings\n",
      "    \"clear_cache\"                # clear the cache each year\n",
      "], years=[2010], data_out=utils.get_run_filename(), out_interval=10)"
     ],
     "language": "python",
     "metadata": {},
     "outputs": [
      {
       "output_type": "stream",
       "stream": "stdout",
       "text": [
        "Running year 2010\n",
        "Running model 'neighborhood_vars'\n",
        "Computing accessibility variables\n",
        "Computing sum_residential_units\n",
        "    Fields available to accvar = residential_units, _node_id0\n",
        "    dataframe = buildings, varname=residential_units\n",
        "    radius = 1500, aggregation = AGG_SUM, decay = DECAY_LINEAR\n",
        "Computing sum_nonresidential_units"
       ]
      },
      {
       "output_type": "stream",
       "stream": "stdout",
       "text": [
        "\n",
        "    Fields available to accvar = job_spaces, _node_id0\n",
        "    dataframe = buildings, varname=job_spaces\n",
        "    radius = 1500, aggregation = AGG_SUM, decay = DECAY_LINEAR\n",
        "Computing ave_unit_sqft"
       ]
      },
      {
       "output_type": "stream",
       "stream": "stdout",
       "text": [
        "\n",
        "    Fields available to accvar = unit_sqft, general_type, _node_id0\n",
        "    Filters = ['general_type == \"Residential\"']\n",
        "    dataframe = buildings, varname=unit_sqft\n",
        "    radius = 1500, aggregation = AGG_AVE, decay = DECAY_FLAT\n",
        "Computing ave_lot_sqft"
       ]
      },
      {
       "output_type": "stream",
       "stream": "stdout",
       "text": [
        "\n",
        "    Fields available to accvar = unit_lot_size, _node_id0\n",
        "    dataframe = buildings, varname=unit_lot_size\n",
        "    radius = 1500, aggregation = AGG_AVE, decay = DECAY_FLAT\n",
        "Computing population"
       ]
      },
      {
       "output_type": "stream",
       "stream": "stdout",
       "text": [
        "\n",
        "    Fields available to accvar = persons, _node_id0\n",
        "    dataframe = households, varname=persons\n",
        "    radius = 1500, aggregation = AGG_SUM, decay = DECAY_LINEAR\n",
        "Computing poor"
       ]
      },
      {
       "output_type": "stream",
       "stream": "stdout",
       "text": [
        "\n",
        "    Fields available to accvar = persons, income, _node_id0\n",
        "    Filters = ['income < 40000']"
       ]
      },
      {
       "output_type": "stream",
       "stream": "stdout",
       "text": [
        "\n",
        "    dataframe = households, varname=persons\n",
        "    radius = 1500, aggregation = AGG_SUM, decay = DECAY_LINEAR\n",
        "Computing renters"
       ]
      },
      {
       "output_type": "stream",
       "stream": "stdout",
       "text": [
        "\n",
        "    Fields available to accvar = tenure, _node_id0\n",
        "    Filters = ['tenure == 2']\n",
        "    dataframe = households, varname=None\n",
        "    radius = 1500, aggregation = AGG_SUM, decay = DECAY_LINEAR\n",
        "Computing sfdu"
       ]
      },
      {
       "output_type": "stream",
       "stream": "stdout",
       "text": [
        "\n",
        "    Fields available to accvar = building_type_id, _node_id0\n",
        "    Filters = ['building_type_id == 1']\n",
        "    dataframe = buildings, varname=None\n",
        "    radius = 1500, aggregation = AGG_SUM, decay = DECAY_LINEAR\n",
        "Computing hhsize"
       ]
      },
      {
       "output_type": "stream",
       "stream": "stdout",
       "text": [
        "\n",
        "    Fields available to accvar = persons, _node_id0\n",
        "    dataframe = households, varname=persons\n",
        "    radius = 1500, aggregation = AGG_AVE, decay = DECAY_FLAT\n",
        "Computing jobs"
       ]
      },
      {
       "output_type": "stream",
       "stream": "stdout",
       "text": [
        "\n",
        "    Fields available to accvar = _node_id0\n",
        "    dataframe = jobs, varname=None\n",
        "    radius = 1500, aggregation = AGG_SUM, decay = DECAY_LINEAR\n",
        "Computing ave_income"
       ]
      },
      {
       "output_type": "stream",
       "stream": "stdout",
       "text": [
        "\n",
        "    Fields available to accvar = income, _node_id0\n",
        "    dataframe = households, varname=income\n",
        "    radius = 1500, aggregation = AGG_AVE, decay = DECAY_FLAT\n",
        "Done"
       ]
      },
      {
       "output_type": "stream",
       "stream": "stdout",
       "text": [
        "\n",
        "Running model 'rsh_simulate'\n",
        "Dropped 3118 rows because they contained nans"
       ]
      },
      {
       "output_type": "stream",
       "stream": "stdout",
       "text": [
        "\n",
        "count    139039.000000\n",
        "mean        102.113985\n",
        "std         218.245200\n",
        "min           0.000000\n",
        "25%           0.000000\n",
        "50%           0.000000\n",
        "75%           0.000000\n",
        "max        5031.716802\n",
        "dtype: float64"
       ]
      },
      {
       "output_type": "stream",
       "stream": "stdout",
       "text": [
        "\n",
        "Running model 'rrh_simulate'\n",
        "Dropped 2 rows because they contained nans"
       ]
      },
      {
       "output_type": "stream",
       "stream": "stdout",
       "text": [
        "\n",
        "count    141412.000000\n",
        "mean          0.623596\n",
        "std           1.303131\n",
        "min           0.000000\n",
        "25%           0.000000\n",
        "50%           0.000000\n",
        "75%           0.000000\n",
        "max           8.408820\n",
        "dtype: float64"
       ]
      },
      {
       "output_type": "stream",
       "stream": "stdout",
       "text": [
        "\n",
        "Running model 'nrh_simulate'\n",
        "Dropped 3118 rows because they contained nans"
       ]
      },
      {
       "output_type": "stream",
       "stream": "stdout",
       "text": [
        "\n",
        "count    10512.000000\n",
        "mean        24.148577\n",
        "std          7.210860\n",
        "min          0.475286\n",
        "25%         22.839534\n",
        "50%         26.364156\n",
        "75%         28.854617\n",
        "max         41.220709\n",
        "dtype: float64"
       ]
      },
      {
       "output_type": "stream",
       "stream": "stdout",
       "text": [
        "\n",
        "Running model 'households_relocation'\n",
        "Total agents: 362867\n",
        "Total currently unplaced: 0"
       ]
      },
      {
       "output_type": "stream",
       "stream": "stdout",
       "text": [
        "\n",
        "Assinging for relocation...\n",
        "Total currently unplaced: 18143"
       ]
      },
      {
       "output_type": "stream",
       "stream": "stdout",
       "text": [
        "\n",
        "Running model 'hlcmo_simulate'\n",
        "Dropped 14507 rows because they contained nans"
       ]
      },
      {
       "output_type": "stream",
       "stream": "stdout",
       "text": [
        "\n",
        "There are 406219 total available units\n",
        "    and 362867 total choosers\n",
        "    but there are 43391 overfull buildings\n",
        "    for a total of 137485 empty units"
       ]
      },
      {
       "output_type": "stream",
       "stream": "stdout",
       "text": [
        "\n",
        "    in 39691 buildings total in the region\n",
        "Assigned 6445 choosers to new units"
       ]
      },
      {
       "output_type": "stream",
       "stream": "stdout",
       "text": [
        "\n",
        "Total currently unplaced: 11698"
       ]
      },
      {
       "output_type": "stream",
       "stream": "stdout",
       "text": [
        "\n",
        "Running model 'hlcmr_simulate'\n",
        "Dropped 12134 rows because they contained nans"
       ]
      },
      {
       "output_type": "stream",
       "stream": "stdout",
       "text": [
        "\n",
        "There are 419564 total available units\n",
        "    and 362867 total choosers\n",
        "    but there are 44115 overfull buildings\n",
        "    for a total of 136583 empty units"
       ]
      },
      {
       "output_type": "stream",
       "stream": "stdout",
       "text": [
        "\n",
        "    in 38240 buildings total in the region\n",
        "Assigned 11698 choosers to new units"
       ]
      },
      {
       "output_type": "stream",
       "stream": "stdout",
       "text": [
        "\n",
        "Total currently unplaced: 0"
       ]
      },
      {
       "output_type": "stream",
       "stream": "stdout",
       "text": [
        "\n",
        "Running model 'households_transition'\n",
        "362867 agents before transition\n",
        "381010 agents after transition"
       ]
      },
      {
       "output_type": "stream",
       "stream": "stdout",
       "text": [
        "\n",
        "Running model 'jobs_relocation'\n",
        "Total agents: 676320\n",
        "Total currently unplaced: 0"
       ]
      },
      {
       "output_type": "stream",
       "stream": "stdout",
       "text": [
        "\n",
        "Assinging for relocation...\n",
        "Total currently unplaced: 33816"
       ]
      },
      {
       "output_type": "stream",
       "stream": "stdout",
       "text": [
        "\n",
        "Running model 'elcm_simulate'\n",
        "Dropped 143034 rows because they contained nans"
       ]
      },
      {
       "output_type": "stream",
       "stream": "stdout",
       "text": [
        "\n",
        "There are 707578 total available units\n",
        "    and 676320 total choosers\n",
        "    but there are 3834 overfull buildings\n",
        "    for a total of 516774 empty units"
       ]
      },
      {
       "output_type": "stream",
       "stream": "stdout",
       "text": [
        "\n",
        "    in 5996 buildings total in the region\n",
        "Assigned 33816 choosers to new units"
       ]
      },
      {
       "output_type": "stream",
       "stream": "stdout",
       "text": [
        "\n",
        "Total currently unplaced: 0"
       ]
      },
      {
       "output_type": "stream",
       "stream": "stdout",
       "text": [
        "\n",
        "Running model 'jobs_transition'\n",
        "676320 agents before transition\n",
        "710136 agents after transition"
       ]
      },
      {
       "output_type": "stream",
       "stream": "stdout",
       "text": [
        "\n",
        "Running model 'price_vars'\n",
        "Computing accessibility variables\n",
        "Computing residential\n",
        "    Fields available to accvar = residential_sales_price, _node_id0\n",
        "    dataframe = buildings, varname=residential_sales_price\n",
        "    radius = 2000, aggregation = AGG_AVE, decay = DECAY_FLAT\n",
        "Computing retail"
       ]
      },
      {
       "output_type": "stream",
       "stream": "stdout",
       "text": [
        "\n",
        "    Fields available to accvar = non_residential_rent, general_type, _node_id0\n",
        "    Filters = ['general_type == \"Retail\"']\n",
        "    dataframe = buildings, varname=non_residential_rent\n",
        "    radius = 2000, aggregation = AGG_AVE, decay = DECAY_FLAT\n",
        "Computing office"
       ]
      },
      {
       "output_type": "stream",
       "stream": "stdout",
       "text": [
        "\n",
        "    Fields available to accvar = non_residential_rent, general_type, _node_id0\n",
        "    Filters = ['general_type == \"Office\"']\n",
        "    dataframe = buildings, varname=non_residential_rent\n",
        "    radius = 2000, aggregation = AGG_AVE, decay = DECAY_FLAT\n",
        "Computing industrial"
       ]
      },
      {
       "output_type": "stream",
       "stream": "stdout",
       "text": [
        "\n",
        "    Fields available to accvar = non_residential_rent, general_type, _node_id0\n",
        "    Filters = ['general_type == \"Industrial\"']\n",
        "    dataframe = buildings, varname=non_residential_rent\n",
        "    radius = 2000, aggregation = AGG_AVE, decay = DECAY_FLAT\n",
        "Done"
       ]
      },
      {
       "output_type": "stream",
       "stream": "stdout",
       "text": [
        "\n",
        "Running model 'feasibility'\n",
        "Describe of the yearly rent by use"
       ]
      },
      {
       "output_type": "stream",
       "stream": "stdout",
       "text": [
        "\n",
        "              retail     industrial         office    residential\n",
        "count  153341.000000  153341.000000  153341.000000  153341.000000\n",
        "mean       28.166520      11.011907      25.028347       4.608672\n",
        "std         2.073270       2.377855       1.265601       6.886742\n",
        "min         0.000000       0.000000       0.000000       0.000000\n",
        "25%        27.023735      11.080281      24.569515       0.000000\n",
        "50%        28.072298      11.326148      24.916622       0.776479\n",
        "75%        29.204082      11.705194      25.383217       6.649821\n",
        "max        34.184170      16.000109      28.114658      28.939713"
       ]
      },
      {
       "output_type": "stream",
       "stream": "stdout",
       "text": [
        "\n",
        "Computing feasibility for form mixedoffice\n",
        "Computing feasibility for form industrial"
       ]
      },
      {
       "output_type": "stream",
       "stream": "stdout",
       "text": [
        "\n",
        "Computing feasibility for form office"
       ]
      },
      {
       "output_type": "stream",
       "stream": "stdout",
       "text": [
        "\n",
        "Computing feasibility for form residential"
       ]
      },
      {
       "output_type": "stream",
       "stream": "stdout",
       "text": [
        "\n",
        "Computing feasibility for form mixedresidential"
       ]
      },
      {
       "output_type": "stream",
       "stream": "stdout",
       "text": [
        "\n",
        "Computing feasibility for form retail"
       ]
      },
      {
       "output_type": "stream",
       "stream": "stdout",
       "text": [
        "\n",
        "Running model 'residential_developer'"
       ]
      },
      {
       "output_type": "stream",
       "stream": "stdout",
       "text": [
        "\n",
        "Number of agents: 381010"
       ]
      },
      {
       "output_type": "stream",
       "stream": "stdout",
       "text": [
        "\n",
        "Number of agent spaces: 431389\n",
        "Current vacancy = 0.12\n",
        "Target vacancy = 0.15, target of new units = 16858\n",
        "Sum of net units that are profitable"
       ]
      },
      {
       "output_type": "stream",
       "stream": "stdout",
       "text": [
        " 41123.0\n",
        "Adding 1430 buildings with 18,771.0 residential_units\n",
        "Running model 'non_residential_developer'"
       ]
      },
      {
       "output_type": "stream",
       "stream": "stdout",
       "text": [
        "\n",
        "Number of agents: 710136"
       ]
      },
      {
       "output_type": "stream",
       "stream": "stdout",
       "text": [
        "\n",
        "Number of agent spaces: 820852\n",
        "Current vacancy = 0.13\n",
        "Target vacancy = 0.15, target of new units = 14602\n",
        "Sum of net units that are profitable"
       ]
      },
      {
       "output_type": "stream",
       "stream": "stdout",
       "text": [
        " 591362.0\n",
        "Adding 43 buildings with 17,502.0 job_spaces\n",
        "Running model 'clear_cache'"
       ]
      },
      {
       "output_type": "stream",
       "stream": "stdout",
       "text": [
        "\n"
       ]
      }
     ],
     "prompt_number": 6
    },
    {
     "cell_type": "code",
     "collapsed": false,
     "input": [],
     "language": "python",
     "metadata": {},
     "outputs": [],
     "prompt_number": 6
    }
   ],
   "metadata": {}
  }
 ]
}