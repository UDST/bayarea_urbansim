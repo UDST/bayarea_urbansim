{
 "metadata": {
  "name": "",
  "signature": "sha256:8632066d6070274f840b055d0d8ca45c8f5f02be0747b45dc7ee3e28410df1a4"
 },
 "nbformat": 3,
 "nbformat_minor": 0,
 "worksheets": [
  {
   "cells": [
    {
     "cell_type": "code",
     "collapsed": false,
     "input": [
      "import pandas as pd"
     ],
     "language": "python",
     "metadata": {},
     "outputs": [],
     "prompt_number": 1
    },
    {
     "cell_type": "code",
     "collapsed": false,
     "input": [
      "pg = pd.read_csv('../data/parcels_geography.csv', index_col='parcel_id')\n",
      "pg['tpp_id'] = pg.tpp_id.fillna(-1)\n",
      "pg['in_tpp'] = (pg.tpp_id != -1)\n",
      "print pg.in_tpp.value_counts()"
     ],
     "language": "python",
     "metadata": {},
     "outputs": [
      {
       "output_type": "stream",
       "stream": "stdout",
       "text": [
        "False    1087067\n",
        "True      936811\n",
        "dtype: int64\n"
       ]
      }
     ],
     "prompt_number": 2
    },
    {
     "cell_type": "code",
     "collapsed": false,
     "input": [
      "d = {}\n",
      "for no in [76, 77, 78]:\n",
      "    print \"Aggregating for %d\" % no\n",
      "    df = pd.read_csv('../parking_simulations/run%d_parcel_output.csv'%no, \n",
      "                     index_col='parcel_id').join(pg)\n",
      "\n",
      "    print \"Total records = %d\" % len(df)\n",
      "    \n",
      "    if no == 66:\n",
      "        print df.query(\"year_built == 2024 and building_type_id <= 3\").residential_units.describe()\n",
      "    # print df.net_residential_units.describe()\n",
      "    # print df.net_job_spaces.describe()\n",
      "    \n",
      "    s = df.net_residential_units.sum()\n",
      "    print \"Total residential units\"\n",
      "    print s\n",
      "    print\n",
      "    print \"Net unit split by TPP\"\n",
      "    print df.groupby('in_tpp').net_residential_units.sum() / s\n",
      "    print\n",
      "    print \"Total non-res job spaces\"\n",
      "    s = df.net_job_spaces.sum()\n",
      "    print s\n",
      "    print\n",
      "    print \"Non res sqft split by TPP\"\n",
      "    print df.groupby('in_tpp').net_job_spaces.sum() / s\n",
      "    print    \n",
      "    print \"\\n\\n\""
     ],
     "language": "python",
     "metadata": {},
     "outputs": [
      {
       "output_type": "stream",
       "stream": "stdout",
       "text": [
        "Aggregating for 76\n",
        "Total records = 10468"
       ]
      },
      {
       "output_type": "stream",
       "stream": "stdout",
       "text": [
        "\n",
        "Total residential units\n",
        "277850.0\n",
        "\n",
        "Net unit split by TPP\n",
        "in_tpp\n",
        "False     0.207731\n",
        "True      0.792269\n",
        "Name: net_residential_units, dtype: float64\n",
        "\n",
        "Total non-res job spaces\n",
        "410720.0\n",
        "\n",
        "Non res sqft split by TPP\n",
        "in_tpp\n",
        "False     0.369875\n",
        "True      0.630125\n",
        "Name: net_job_spaces, dtype: float64\n",
        "\n",
        "\n",
        "\n",
        "\n",
        "Aggregating for 77\n",
        "Total records = 6406"
       ]
      },
      {
       "output_type": "stream",
       "stream": "stdout",
       "text": [
        "\n",
        "Total residential units\n",
        "279286.0\n",
        "\n",
        "Net unit split by TPP\n",
        "in_tpp\n",
        "False     0.173722\n",
        "True      0.826278\n",
        "Name: net_residential_units, dtype: float64\n",
        "\n",
        "Total non-res job spaces\n",
        "409270.0\n",
        "\n",
        "Non res sqft split by TPP\n",
        "in_tpp\n",
        "False     0.296093\n",
        "True      0.703907\n",
        "Name: net_job_spaces, dtype: float64\n",
        "\n",
        "\n",
        "\n",
        "\n",
        "Aggregating for 78\n",
        "Total records = 4729"
       ]
      },
      {
       "output_type": "stream",
       "stream": "stdout",
       "text": [
        "\n",
        "Total residential units\n",
        "279573.0\n",
        "\n",
        "Net unit split by TPP\n",
        "in_tpp\n",
        "False     0.147951\n",
        "True      0.852049\n",
        "Name: net_residential_units, dtype: float64\n",
        "\n",
        "Total non-res job spaces\n",
        "411736.0\n",
        "\n",
        "Non res sqft split by TPP\n",
        "in_tpp\n",
        "False     0.186357\n",
        "True      0.813643\n",
        "Name: net_job_spaces, dtype: float64\n",
        "\n",
        "\n",
        "\n",
        "\n"
       ]
      }
     ],
     "prompt_number": 3
    },
    {
     "cell_type": "code",
     "collapsed": false,
     "input": [],
     "language": "python",
     "metadata": {},
     "outputs": []
    }
   ],
   "metadata": {}
  }
 ]
}