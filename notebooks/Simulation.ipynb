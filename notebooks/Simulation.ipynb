{
 "metadata": {
  "name": "",
  "signature": "sha256:b7f219d9293ca1915307a74da803ecc1a9f82a3732d2f802766018dca25d3ca5"
 },
 "nbformat": 3,
 "nbformat_minor": 0,
 "worksheets": [
  {
   "cells": [
    {
     "cell_type": "code",
     "collapsed": true,
     "input": [
      "%load_ext autoreload\n",
      "%autoreload 2\n",
      "if 'sim' not in globals():\n",
      "    import os; os.chdir('..')\n",
      "import models\n",
      "import time\n",
      "import urbansim.sim.simulation as sim"
     ],
     "language": "python",
     "metadata": {},
     "outputs": [],
     "prompt_number": 1
    },
    {
     "cell_type": "code",
     "collapsed": true,
     "input": [
      "print \"Started\", time.ctime()\n",
      "in_year, out_year = 2010, 2012\n",
      "\n",
      "sim.run([\n",
      "    \"neighborhood_vars\",         # accessibility variables\n",
      "\n",
      "    \"rsh_simulate\",              # residential sales hedonic\n",
      "    \"nrh_simulate\",              # non-residential rent hedonic\n",
      "\n",
      "    \"households_relocation\",\n",
      "    \"hlcm_simulate\",\n",
      "    \"households_transition\",\n",
      "\n",
      "    \"jobs_relocation\",\n",
      "    \"elcm_simulate\",\n",
      "    \"jobs_transition\",\n",
      "\n",
      "\n",
      "    \"price_vars\",\n",
      "\n",
      "    \"feasibility\",\n",
      "    \"residential_developer\",\n",
      "    \"non_residential_developer\",\n",
      "     \n",
      "    \"diagnostic_output\",\n",
      "    \"travel_model_output\"\n",
      "], years=range(in_year, out_year))\n",
      "print \"Finished\", time.ctime()"
     ],
     "language": "python",
     "metadata": {},
     "outputs": [
      {
       "output_type": "stream",
       "stream": "stdout",
       "text": [
        "Started Wed Jan 14 12:46:35 2015\n",
        "Running year 2010\n",
        "Running model 'neighborhood_vars'\n",
        "Computing accessibility variables"
       ]
      },
      {
       "output_type": "stream",
       "stream": "stdout",
       "text": [
        "\n",
        "Computing sum_residential_units\n",
        "Filling column building_type_id with value 1.0 (17692 values)"
       ]
      },
      {
       "output_type": "stream",
       "stream": "stdout",
       "text": [
        "\n",
        "Filling column residential_units with value 0 (17692 values)"
       ]
      },
      {
       "output_type": "stream",
       "stream": "stdout",
       "text": [
        "\n",
        "Filling column year_built with value 1964.0 (251406 values)"
       ]
      },
      {
       "output_type": "stream",
       "stream": "stdout",
       "text": [
        "\n",
        "Filling column non_residential_sqft with value 0 (34223 values)"
       ]
      },
      {
       "output_type": "stream",
       "stream": "stdout",
       "text": [
        "\n",
        "Filling column shape_area with value 594.886657715 (114 values)"
       ]
      },
      {
       "output_type": "stream",
       "stream": "stdout",
       "text": [
        "\n",
        "Filling column zone_id with value 1178.0 (114 values)"
       ]
      },
      {
       "output_type": "stream",
       "stream": "stdout",
       "text": [
        "\n",
        "Computing sum_nonresidential_units"
       ]
      },
      {
       "output_type": "stream",
       "stream": "stdout",
       "text": [
        "\n",
        "Computing ave_sqft_per_unit"
       ]
      },
      {
       "output_type": "stream",
       "stream": "stdout",
       "text": [
        "\n",
        "Computing ave_lot_size_per_unit"
       ]
      },
      {
       "output_type": "stream",
       "stream": "stdout",
       "text": [
        "\n",
        "Computing population"
       ]
      },
      {
       "output_type": "stream",
       "stream": "stdout",
       "text": [
        "\n",
        "Removed 14076 rows because they contain missing values"
       ]
      },
      {
       "output_type": "stream",
       "stream": "stdout",
       "text": [
        "\n",
        "Computing poor"
       ]
      },
      {
       "output_type": "stream",
       "stream": "stdout",
       "text": [
        "\n",
        "Removed 5079 rows because they contain missing values"
       ]
      },
      {
       "output_type": "stream",
       "stream": "stdout",
       "text": [
        "\n",
        "Computing renters"
       ]
      },
      {
       "output_type": "stream",
       "stream": "stdout",
       "text": [
        "\n",
        "Removed 5971 rows because they contain missing values"
       ]
      },
      {
       "output_type": "stream",
       "stream": "stdout",
       "text": [
        "\n",
        "Computing sfdu"
       ]
      },
      {
       "output_type": "stream",
       "stream": "stdout",
       "text": [
        "\n",
        "Computing ave_hhsize"
       ]
      },
      {
       "output_type": "stream",
       "stream": "stdout",
       "text": [
        "\n",
        "Removed 14076 rows because they contain missing values"
       ]
      },
      {
       "output_type": "stream",
       "stream": "stdout",
       "text": [
        "\n",
        "Computing jobs"
       ]
      },
      {
       "output_type": "stream",
       "stream": "stdout",
       "text": [
        "\n",
        "Removed 148710 rows because they contain missing values"
       ]
      },
      {
       "output_type": "stream",
       "stream": "stdout",
       "text": [
        "\n",
        "Computing ave_income"
       ]
      },
      {
       "output_type": "stream",
       "stream": "stdout",
       "text": [
        "\n",
        "Removed 14076 rows because they contain missing values"
       ]
      },
      {
       "output_type": "stream",
       "stream": "stdout",
       "text": [
        "\n",
        "       sum_residential_units  sum_nonresidential_units  ave_sqft_per_unit  \\\n",
        "count          226060.000000             226060.000000      226060.000000   \n",
        "mean                5.959171                  6.379528           7.483579   \n",
        "std                 1.771903                  1.891947           0.983258   \n",
        "min                 0.000000                  0.000000           0.000000   \n",
        "25%                 5.467156                  5.504745           7.299118   \n",
        "50%                 6.410524                  6.628067           7.495368   \n",
        "75%                 7.023556                  7.601275           7.805410   \n",
        "max                10.139400                 12.389406          14.022834   \n",
        "\n",
        "       ave_lot_size_per_unit     population           poor        renters  \\\n",
        "count          226060.000000  226060.000000  226060.000000  226060.000000   \n",
        "mean                9.298278       6.875524       5.382874       5.390930   \n",
        "std                 1.841779       1.843690       1.831038       1.634224   \n",
        "min                 0.000000       0.000000       0.000000       0.000000   \n",
        "25%                 8.614366       6.422864       4.622566       5.001300   \n",
        "50%                 8.982795       7.382371       5.726997       5.897705   \n",
        "75%                 9.623702       7.983245       6.561895       6.402221   \n",
        "max                17.130289      10.437380       9.869967       8.485800   \n",
        "\n",
        "                sfdu     ave_hhsize           jobs     ave_income  \n",
        "count  226060.000000  226060.000000  226060.000000  226060.000000  \n",
        "mean        5.229726       1.289112       5.951476      11.128617  \n",
        "std         1.748419       0.201028       1.809135       1.443564  \n",
        "min         0.000000       0.000000       0.000000       0.000000  \n",
        "25%         4.691915       1.237874       5.134082      11.083780  \n",
        "50%         5.870173       1.308955       6.181096      11.304513  \n",
        "75%         6.405925       1.373032       7.080393      11.513828  \n",
        "max         7.721668       2.525729      11.950737      13.043323  "
       ]
      },
      {
       "output_type": "stream",
       "stream": "stdout",
       "text": [
        "\n",
        "Time to execute model 'neighborhood_vars': 49.94s\n",
        "Running model 'rsh_simulate'\n",
        "count    1918567.000000\n",
        "mean         328.512742\n",
        "std          177.913917\n",
        "min           20.129057\n",
        "25%          177.093343\n",
        "50%          278.611650\n",
        "75%          420.588041\n",
        "max         1259.989695\n",
        "dtype: float64"
       ]
      },
      {
       "output_type": "stream",
       "stream": "stdout",
       "text": [
        "\n",
        "Time to execute model 'rsh_simulate': 4.38s"
       ]
      },
      {
       "output_type": "stream",
       "stream": "stdout",
       "text": [
        "\n",
        "Running model 'nrh_simulate'\n",
        "count    116797.000000\n",
        "mean         17.331996\n",
        "std           5.932696\n",
        "min           1.984787\n",
        "25%          10.250877\n",
        "50%          19.089835\n",
        "75%          21.548487\n",
        "max          43.158583\n",
        "dtype: float64"
       ]
      },
      {
       "output_type": "stream",
       "stream": "stdout",
       "text": [
        "\n",
        "Time to execute model 'nrh_simulate': 2.06s"
       ]
      },
      {
       "output_type": "stream",
       "stream": "stdout",
       "text": [
        "\n",
        "Running model 'households_relocation'\n",
        "Total agents: 2608023\n",
        "Total currently unplaced: 14024"
       ]
      },
      {
       "output_type": "stream",
       "stream": "stdout",
       "text": [
        "\n",
        "Assinging for relocation...\n",
        "Total currently unplaced: 143733"
       ]
      },
      {
       "output_type": "stream",
       "stream": "stdout",
       "text": [
        "\n",
        "Time to execute model 'households_relocation': 1.92s\n",
        "Running model 'hlcm_simulate'\n",
        "There are 2767056 total available units"
       ]
      },
      {
       "output_type": "stream",
       "stream": "stdout",
       "text": [
        "\n",
        "    and 2608023 total choosers\n",
        "    but there are 30 overfull buildings"
       ]
      },
      {
       "output_type": "stream",
       "stream": "stdout",
       "text": [
        "\n",
        "    for a total of 302817 temporarily empty units"
       ]
      },
      {
       "output_type": "stream",
       "stream": "stdout",
       "text": [
        "\n",
        "    in 153503 buildings total in the region\n",
        "There are 143733 total movers for this LCM\n",
        "Assigned 143733 choosers to new units"
       ]
      },
      {
       "output_type": "stream",
       "stream": "stdout",
       "text": [
        "\n",
        "Total currently unplaced: 0"
       ]
      },
      {
       "output_type": "stream",
       "stream": "stdout",
       "text": [
        "\n",
        "    and there are now 159033 empty units"
       ]
      },
      {
       "output_type": "stream",
       "stream": "stdout",
       "text": [
        "\n",
        "    and 29 overfull buildings"
       ]
      },
      {
       "output_type": "stream",
       "stream": "stdout",
       "text": [
        "\n",
        "Time to execute model 'hlcm_simulate': 9.28s\n",
        "Running model 'households_transition'\n",
        "Total agents before transition: 2608023"
       ]
      },
      {
       "output_type": "stream",
       "stream": "stdout",
       "text": [
        "\n",
        "Total agents after transition: 2608027"
       ]
      },
      {
       "output_type": "stream",
       "stream": "stdout",
       "text": [
        "\n",
        "Time to execute model 'households_transition': 2.62s\n",
        "Running model 'jobs_relocation'\n",
        "Total agents: 4085844\n",
        "Total currently unplaced: 0"
       ]
      },
      {
       "output_type": "stream",
       "stream": "stdout",
       "text": [
        "\n",
        "Assinging for relocation...\n",
        "Total currently unplaced: 204292"
       ]
      },
      {
       "output_type": "stream",
       "stream": "stdout",
       "text": [
        "\n",
        "Time to execute model 'jobs_relocation': 1.61s\n",
        "Running model 'elcm_simulate'\n",
        "There are 6668605 total available units"
       ]
      },
      {
       "output_type": "stream",
       "stream": "stdout",
       "text": [
        "\n",
        "    and 4085844 total choosers\n",
        "    but there are 6569 overfull buildings"
       ]
      },
      {
       "output_type": "stream",
       "stream": "stdout",
       "text": [
        "\n",
        "    for a total of 2928342 temporarily empty units"
       ]
      },
      {
       "output_type": "stream",
       "stream": "stdout",
       "text": [
        "\n",
        "    in 113659 buildings total in the region\n",
        "There are 204292 total movers for this LCM"
       ]
      },
      {
       "output_type": "stream",
       "stream": "stdout",
       "text": [
        "\n",
        "Assigned 204292 choosers to new units"
       ]
      },
      {
       "output_type": "stream",
       "stream": "stdout",
       "text": [
        "\n",
        "Total currently unplaced: 0"
       ]
      },
      {
       "output_type": "stream",
       "stream": "stdout",
       "text": [
        "\n",
        "    and there are now 2582761 empty units"
       ]
      },
      {
       "output_type": "stream",
       "stream": "stdout",
       "text": [
        "\n",
        "    and 6568 overfull buildings"
       ]
      },
      {
       "output_type": "stream",
       "stream": "stdout",
       "text": [
        "\n",
        "Time to execute model 'elcm_simulate': 20.12s\n",
        "Running model 'jobs_transition'\n",
        "Total agents before transition: 4085844"
       ]
      },
      {
       "output_type": "stream",
       "stream": "stdout",
       "text": [
        "\n",
        "Total agents after transition: 3385280"
       ]
      },
      {
       "output_type": "stream",
       "stream": "stdout",
       "text": [
        "\n",
        "Time to execute model 'jobs_transition': 7.50s\n",
        "Running model 'price_vars'\n",
        "Computing accessibility variables\n",
        "Computing residential\n",
        "Computing retail"
       ]
      },
      {
       "output_type": "stream",
       "stream": "stdout",
       "text": [
        "\n",
        "Computing office"
       ]
      },
      {
       "output_type": "stream",
       "stream": "stdout",
       "text": [
        "\n",
        "Computing industrial"
       ]
      },
      {
       "output_type": "stream",
       "stream": "stdout",
       "text": [
        "\n",
        "         residential         retail         office     industrial\n",
        "count  226060.000000  226060.000000  226060.000000  226060.000000\n",
        "mean      324.265033      17.940905      18.634334       7.821100\n",
        "std       177.166022       6.845849       6.355697       3.269070\n",
        "min         0.000000       0.000000       0.000000       0.000000\n",
        "25%       180.200417      16.487324      18.686859       8.049538\n",
        "50%       274.153305      19.498459      20.763134       8.851870\n",
        "75%       413.796082      22.162489      21.822366       9.535944\n",
        "max      1110.007446      39.543636      27.082687      14.522486"
       ]
      },
      {
       "output_type": "stream",
       "stream": "stdout",
       "text": [
        "\n",
        "Time to execute model 'price_vars': 15.91s\n",
        "Running model 'feasibility'\n",
        "Describe of the yearly rent by use"
       ]
      },
      {
       "output_type": "stream",
       "stream": "stdout",
       "text": [
        "\n",
        "               retail      industrial          office     residential\n",
        "count  1513115.000000  1513115.000000  1513115.000000  1512835.000000\n",
        "mean        18.731864        8.011690       19.600804       19.085757\n",
        "std          5.278723        2.888720        4.538120       10.269157\n",
        "min          0.000000        0.000000        0.000000        3.136657\n",
        "25%         17.140301        8.207291       18.958872       10.506933\n",
        "50%         19.613832        8.846386       20.805853       16.231617\n",
        "75%         21.911263        9.417124       21.686730       24.088081\n",
        "max         39.543636       14.522486       27.082687       66.706978"
       ]
      },
      {
       "output_type": "stream",
       "stream": "stdout",
       "text": [
        "\n",
        "Computing feasibility for form mixedoffice\n",
        "Computing feasibility for form industrial"
       ]
      },
      {
       "output_type": "stream",
       "stream": "stdout",
       "text": [
        "\n",
        "Computing feasibility for form office"
       ]
      },
      {
       "output_type": "stream",
       "stream": "stdout",
       "text": [
        "\n",
        "Computing feasibility for form residential"
       ]
      },
      {
       "output_type": "stream",
       "stream": "stdout",
       "text": [
        "\n",
        "Computing feasibility for form mixedresidential"
       ]
      },
      {
       "output_type": "stream",
       "stream": "stdout",
       "text": [
        "\n",
        "Computing feasibility for form retail"
       ]
      },
      {
       "output_type": "stream",
       "stream": "stdout",
       "text": [
        "\n",
        "Time to execute model 'feasibility': 38.33s"
       ]
      },
      {
       "output_type": "stream",
       "stream": "stdout",
       "text": [
        "\n",
        "Running model 'residential_developer'\n",
        "Number of agents: 2,608,027"
       ]
      },
      {
       "output_type": "stream",
       "stream": "stdout",
       "text": [
        "\n",
        "Number of agent spaces: 2,767,056\n",
        "Current vacancy = 0.06\n",
        "Target vacancy = 0.08, target of new units = 67,755\n",
        "139,661 feasible buildings before running developer\n",
        "Sum of net units that are profitable: 314,374"
       ]
      },
      {
       "output_type": "stream",
       "stream": "stdout",
       "text": [
        "\n",
        "Adding 339 buildings with 71,253 residential_units"
       ]
      },
      {
       "output_type": "stream",
       "stream": "stdout",
       "text": [
        "\n",
        "139,322 feasible buildings after running developer\n",
        "Unplaced households before: 94108"
       ]
      },
      {
       "output_type": "stream",
       "stream": "stdout",
       "text": [
        "\n",
        "Unplaced households after: 97040"
       ]
      },
      {
       "output_type": "stream",
       "stream": "stdout",
       "text": [
        "\n",
        "Unplaced jobs before: 17016"
       ]
      },
      {
       "output_type": "stream",
       "stream": "stdout",
       "text": [
        "\n",
        "Unplaced jobs after: 22126"
       ]
      },
      {
       "output_type": "stream",
       "stream": "stdout",
       "text": [
        "\n",
        "Time to execute model 'residential_developer': 5.09s"
       ]
      },
      {
       "output_type": "stream",
       "stream": "stdout",
       "text": [
        "\n",
        "Running model 'non_residential_developer'\n",
        "Number of agents: 3,385,280"
       ]
      },
      {
       "output_type": "stream",
       "stream": "stdout",
       "text": [
        "\n",
        "Number of agent spaces: 6,658,131\n",
        "Current vacancy = 0.49\n",
        "Target vacancy = 0.49, target of new units = 0\n",
        "139,322 feasible buildings before running developer\n",
        "Sum of net units that are profitable: 2,717,171"
       ]
      },
      {
       "output_type": "stream",
       "stream": "stdout",
       "text": [
        "\n",
        "Time to execute model 'non_residential_developer': 5.23s"
       ]
      },
      {
       "output_type": "stream",
       "stream": "stdout",
       "text": [
        "\n",
        "Running model 'diagnostic_output'\n",
        "Time to execute model 'diagnostic_output': 28.90s"
       ]
      },
      {
       "output_type": "stream",
       "stream": "stdout",
       "text": [
        "\n",
        "Running model 'travel_model_output'\n",
        "Time to execute model 'travel_model_output': 14.75s"
       ]
      },
      {
       "output_type": "stream",
       "stream": "stdout",
       "text": [
        "\n",
        "Total time to execute year 2010: 207.62s\n",
        "Running year 2011\n",
        "Running model 'neighborhood_vars'\n",
        "Computing accessibility variables\n",
        "Computing sum_residential_units\n",
        "Computing sum_nonresidential_units"
       ]
      },
      {
       "output_type": "stream",
       "stream": "stdout",
       "text": [
        "\n",
        "Computing ave_sqft_per_unit"
       ]
      },
      {
       "output_type": "stream",
       "stream": "stdout",
       "text": [
        "\n",
        "Computing ave_lot_size_per_unit"
       ]
      },
      {
       "output_type": "stream",
       "stream": "stdout",
       "text": [
        "\n",
        "Computing population"
       ]
      },
      {
       "output_type": "stream",
       "stream": "stdout",
       "text": [
        "\n",
        "Removed 97091 rows because they contain missing values"
       ]
      },
      {
       "output_type": "stream",
       "stream": "stdout",
       "text": [
        "\n",
        "Computing poor"
       ]
      },
      {
       "output_type": "stream",
       "stream": "stdout",
       "text": [
        "\n",
        "Removed 74719 rows because they contain missing values"
       ]
      },
      {
       "output_type": "stream",
       "stream": "stdout",
       "text": [
        "\n",
        "Computing renters"
       ]
      },
      {
       "output_type": "stream",
       "stream": "stdout",
       "text": [
        "\n",
        "Removed 41943 rows because they contain missing values"
       ]
      },
      {
       "output_type": "stream",
       "stream": "stdout",
       "text": [
        "\n",
        "Computing sfdu"
       ]
      },
      {
       "output_type": "stream",
       "stream": "stdout",
       "text": [
        "\n",
        "Computing ave_hhsize"
       ]
      },
      {
       "output_type": "stream",
       "stream": "stdout",
       "text": [
        "\n",
        "Removed 97091 rows because they contain missing values"
       ]
      },
      {
       "output_type": "stream",
       "stream": "stdout",
       "text": [
        "\n",
        "Computing jobs"
       ]
      },
      {
       "output_type": "stream",
       "stream": "stdout",
       "text": [
        "\n",
        "Removed 144588 rows because they contain missing values"
       ]
      },
      {
       "output_type": "stream",
       "stream": "stdout",
       "text": [
        "\n",
        "Computing ave_income"
       ]
      },
      {
       "output_type": "stream",
       "stream": "stdout",
       "text": [
        "\n",
        "Removed 97091 rows because they contain missing values"
       ]
      },
      {
       "output_type": "stream",
       "stream": "stdout",
       "text": [
        "\n",
        "       sum_residential_units  sum_nonresidential_units  ave_sqft_per_unit  \\\n",
        "count          226060.000000             226060.000000      226060.000000   \n",
        "mean                5.973243                  6.378392           7.483435   \n",
        "std                 1.775796                  1.891323           0.983105   \n",
        "min                 0.000000                  0.000000           0.000000   \n",
        "25%                 5.481059                  5.504162           7.299133   \n",
        "50%                 6.423215                  6.625874           7.495246   \n",
        "75%                 7.036251                  7.600026           7.805219   \n",
        "max                10.145961                 12.388303          14.022834   \n",
        "\n",
        "       ave_lot_size_per_unit     population           poor        renters  \\\n",
        "count          226060.000000  226060.000000  226060.000000  226060.000000   \n",
        "mean                9.296773       6.835835       5.334013       5.366390   \n",
        "std                 1.842019       1.855638       1.845651       1.641518   \n",
        "min                 0.000000       0.000000       0.000000       0.000000   \n",
        "25%                 8.613335       6.376831       4.556253       4.969672   \n",
        "50%                 8.981912       7.339913       5.671094       5.869117   \n",
        "75%                 9.622146       7.946892       6.520768       6.374392   \n",
        "max                17.130289      10.607454      10.051831       8.539317   \n",
        "\n",
        "                sfdu     ave_hhsize           jobs     ave_income  \n",
        "count  226060.000000  226060.000000  226060.000000  226060.000000  \n",
        "mean        5.229644       1.291641       5.743403      11.142127  \n",
        "std         1.748420       0.201014       1.812347       1.469125  \n",
        "min         0.000000       0.000000       0.000000       0.000000  \n",
        "25%         4.691841       1.243209       4.896595      11.107674  \n",
        "50%         5.870126       1.311447       5.970738      11.326010  \n",
        "75%         6.405887       1.373133       6.884060      11.530208  \n",
        "max         7.721668       2.525729      11.691820      13.043323  "
       ]
      },
      {
       "output_type": "stream",
       "stream": "stdout",
       "text": [
        "\n",
        "Time to execute model 'neighborhood_vars': 21.60s\n",
        "Running model 'rsh_simulate'\n",
        "count    1918551.000000\n",
        "mean         329.395349\n",
        "std          178.133805\n",
        "min           20.129057\n",
        "25%          177.740888\n",
        "50%          279.536995\n",
        "75%          421.720406\n",
        "max         1259.989695\n",
        "dtype: float64"
       ]
      },
      {
       "output_type": "stream",
       "stream": "stdout",
       "text": [
        "\n",
        "Time to execute model 'rsh_simulate': 3.55s"
       ]
      },
      {
       "output_type": "stream",
       "stream": "stdout",
       "text": [
        "\n",
        "Running model 'nrh_simulate'\n",
        "count    116658.000000\n",
        "mean         17.091120\n",
        "std           5.866460\n",
        "min           1.984787\n",
        "25%          10.069654\n",
        "50%          18.802975\n",
        "75%          21.362318\n",
        "max          43.038116\n",
        "dtype: float64"
       ]
      },
      {
       "output_type": "stream",
       "stream": "stdout",
       "text": [
        "\n",
        "Time to execute model 'nrh_simulate': 1.91s\n",
        "Running model 'households_relocation'\n",
        "Total agents: 2608027\n",
        "Total currently unplaced: 97040"
       ]
      },
      {
       "output_type": "stream",
       "stream": "stdout",
       "text": [
        "\n",
        "Assinging for relocation...\n",
        "Total currently unplaced: 222613"
       ]
      },
      {
       "output_type": "stream",
       "stream": "stdout",
       "text": [
        "\n",
        "Time to execute model 'households_relocation': 1.61s\n",
        "Running model 'hlcm_simulate'\n",
        "There are 2834834 total available units"
       ]
      },
      {
       "output_type": "stream",
       "stream": "stdout",
       "text": [
        "\n",
        "    and 2608027 total choosers\n",
        "    but there are 29 overfull buildings"
       ]
      },
      {
       "output_type": "stream",
       "stream": "stdout",
       "text": [
        "\n",
        "    for a total of 449468 temporarily empty units"
       ]
      },
      {
       "output_type": "stream",
       "stream": "stdout",
       "text": [
        "\n",
        "    in 246486 buildings total in the region\n",
        "There are 222613 total movers for this LCM\n",
        "Assigned 222613 choosers to new units"
       ]
      },
      {
       "output_type": "stream",
       "stream": "stdout",
       "text": [
        "\n",
        "Total currently unplaced: 0"
       ]
      },
      {
       "output_type": "stream",
       "stream": "stdout",
       "text": [
        "\n",
        "    and there are now 226807 empty units"
       ]
      },
      {
       "output_type": "stream",
       "stream": "stdout",
       "text": [
        "\n",
        "    and 28 overfull buildings"
       ]
      },
      {
       "output_type": "stream",
       "stream": "stdout",
       "text": [
        "\n",
        "Time to execute model 'hlcm_simulate': 10.76s\n",
        "Running model 'households_transition'\n",
        "Total agents before transition: 2608027"
       ]
      },
      {
       "output_type": "stream",
       "stream": "stdout",
       "text": [
        "\n",
        "Total agents after transition: 2629692"
       ]
      },
      {
       "output_type": "stream",
       "stream": "stdout",
       "text": [
        "\n",
        "Time to execute model 'households_transition': 3.14s\n",
        "Running model 'jobs_relocation'\n",
        "Total agents: 3385280\n",
        "Total currently unplaced: 22126"
       ]
      },
      {
       "output_type": "stream",
       "stream": "stdout",
       "text": [
        "\n",
        "Assinging for relocation...\n",
        "Total currently unplaced: 190305"
       ]
      },
      {
       "output_type": "stream",
       "stream": "stdout",
       "text": [
        "\n",
        "Time to execute model 'jobs_relocation': 1.63s\n",
        "Running model 'elcm_simulate'\n",
        "There are 6658131 total available units"
       ]
      },
      {
       "output_type": "stream",
       "stream": "stdout",
       "text": [
        "\n",
        "    and 3385280 total choosers\n",
        "    but there are 6119 overfull buildings"
       ]
      },
      {
       "output_type": "stream",
       "stream": "stdout",
       "text": [
        "\n",
        "    for a total of 3579552 temporarily empty units"
       ]
      },
      {
       "output_type": "stream",
       "stream": "stdout",
       "text": [
        "\n",
        "    in 217758 buildings total in the region\n",
        "There are 190305 total movers for this LCM"
       ]
      },
      {
       "output_type": "stream",
       "stream": "stdout",
       "text": [
        "\n",
        "Assigned 190305 choosers to new units"
       ]
      },
      {
       "output_type": "stream",
       "stream": "stdout",
       "text": [
        "\n",
        "Total currently unplaced: 0"
       ]
      },
      {
       "output_type": "stream",
       "stream": "stdout",
       "text": [
        "\n",
        "    and there are now 3272851 empty units"
       ]
      },
      {
       "output_type": "stream",
       "stream": "stdout",
       "text": [
        "\n",
        "    and 6118 overfull buildings"
       ]
      },
      {
       "output_type": "stream",
       "stream": "stdout",
       "text": [
        "\n",
        "Time to execute model 'elcm_simulate': 39.90s\n",
        "Running model 'jobs_transition'\n",
        "Total agents before transition: 3385280"
       ]
      },
      {
       "output_type": "stream",
       "stream": "stdout",
       "text": [
        "\n",
        "Total agents after transition: 3442300"
       ]
      },
      {
       "output_type": "stream",
       "stream": "stdout",
       "text": [
        "\n",
        "Time to execute model 'jobs_transition': 3.44s\n",
        "Running model 'price_vars'\n",
        "Computing accessibility variables\n",
        "Computing residential\n",
        "Computing retail"
       ]
      },
      {
       "output_type": "stream",
       "stream": "stdout",
       "text": [
        "\n",
        "Computing office"
       ]
      },
      {
       "output_type": "stream",
       "stream": "stdout",
       "text": [
        "\n",
        "Computing industrial"
       ]
      },
      {
       "output_type": "stream",
       "stream": "stdout",
       "text": [
        "\n",
        "         residential         retail         office     industrial\n",
        "count  226060.000000  226060.000000  226060.000000  226060.000000\n",
        "mean      325.039813      17.470805      18.618946       7.693504\n",
        "std       177.449425       6.681970       6.350521       3.219926\n",
        "min         0.000000       0.000000       0.000000       0.000000\n",
        "25%       180.769966      16.040886      18.673704       7.894032\n",
        "50%       274.929077      18.990436      20.747619       8.710329\n",
        "75%       414.535339      21.605320      21.807455       9.389359\n",
        "max      1113.869995      39.063305      27.096874      14.269460"
       ]
      },
      {
       "output_type": "stream",
       "stream": "stdout",
       "text": [
        "\n",
        "Time to execute model 'price_vars': 20.39s\n",
        "Running model 'feasibility'\n",
        "Describe of the yearly rent by use"
       ]
      },
      {
       "output_type": "stream",
       "stream": "stdout",
       "text": [
        "\n",
        "               retail      industrial          office     residential\n",
        "count  1512776.000000  1512776.000000  1512776.000000  1512496.000000\n",
        "mean        18.226143        7.876509       19.583399       19.141618\n",
        "std          5.158433        2.843360        4.534060       10.287251\n",
        "min          0.000000        0.000000        0.000000        3.136657\n",
        "25%         16.683426        8.055892       18.942824       10.536027\n",
        "50%         19.114693        8.699291       20.787407       16.311653\n",
        "75%         21.342220        9.268287       21.668041       24.110930\n",
        "max         39.063305       14.269460       27.096874       66.934365"
       ]
      },
      {
       "output_type": "stream",
       "stream": "stdout",
       "text": [
        "\n",
        "Computing feasibility for form mixedoffice\n",
        "Computing feasibility for form industrial"
       ]
      },
      {
       "output_type": "stream",
       "stream": "stdout",
       "text": [
        "\n",
        "Computing feasibility for form office"
       ]
      },
      {
       "output_type": "stream",
       "stream": "stdout",
       "text": [
        "\n",
        "Computing feasibility for form residential"
       ]
      },
      {
       "output_type": "stream",
       "stream": "stdout",
       "text": [
        "\n",
        "Computing feasibility for form mixedresidential"
       ]
      },
      {
       "output_type": "stream",
       "stream": "stdout",
       "text": [
        "\n",
        "Computing feasibility for form retail"
       ]
      },
      {
       "output_type": "stream",
       "stream": "stdout",
       "text": [
        "\n",
        "Time to execute model 'feasibility': 32.73s"
       ]
      },
      {
       "output_type": "stream",
       "stream": "stdout",
       "text": [
        "\n",
        "Running model 'residential_developer'\n",
        "Number of agents: 2,629,692"
       ]
      },
      {
       "output_type": "stream",
       "stream": "stdout",
       "text": [
        "\n",
        "Number of agent spaces: 2,834,834\n",
        "Current vacancy = 0.07\n",
        "Target vacancy = 0.08, target of new units = 23,526\n",
        "132,626 feasible buildings before running developer\n",
        "Sum of net units that are profitable: 247,583"
       ]
      },
      {
       "output_type": "stream",
       "stream": "stdout",
       "text": [
        "\n",
        "Adding 405 buildings with 26,068 residential_units"
       ]
      },
      {
       "output_type": "stream",
       "stream": "stdout",
       "text": [
        "\n",
        "132,221 feasible buildings after running developer\n",
        "Unplaced households before: 108197"
       ]
      },
      {
       "output_type": "stream",
       "stream": "stdout",
       "text": [
        "\n",
        "Unplaced households after: 110322\n",
        "Unplaced jobs before: 57020"
       ]
      },
      {
       "output_type": "stream",
       "stream": "stdout",
       "text": [
        "\n",
        "Unplaced jobs after: 60473\n",
        "Time to execute model 'residential_developer': 4.89s"
       ]
      },
      {
       "output_type": "stream",
       "stream": "stdout",
       "text": [
        "\n",
        "Running model 'non_residential_developer'\n",
        "Number of agents: 3,442,300"
       ]
      },
      {
       "output_type": "stream",
       "stream": "stdout",
       "text": [
        "\n",
        "Number of agent spaces: 6,651,114\n",
        "Current vacancy = 0.48\n",
        "Target vacancy = 0.49, target of new units = 98,493\n",
        "132,221 feasible buildings before running developer\n",
        "Sum of net units that are profitable: 2,575,621"
       ]
      },
      {
       "output_type": "stream",
       "stream": "stdout",
       "text": [
        "\n",
        "Adding 137 buildings with 104,487 job_spaces"
       ]
      },
      {
       "output_type": "stream",
       "stream": "stdout",
       "text": [
        "\n",
        "132,084 feasible buildings after running developer\n",
        "Unplaced households before: 110322"
       ]
      },
      {
       "output_type": "stream",
       "stream": "stdout",
       "text": [
        "\n",
        "Unplaced households after: 112128\n",
        "Unplaced jobs before: 60473"
       ]
      },
      {
       "output_type": "stream",
       "stream": "stdout",
       "text": [
        "\n",
        "Unplaced jobs after: 63083\n",
        "Time to execute model 'non_residential_developer': 7.23s"
       ]
      },
      {
       "output_type": "stream",
       "stream": "stdout",
       "text": [
        "\n",
        "Running model 'diagnostic_output'\n",
        "Time to execute model 'diagnostic_output': 32.51s"
       ]
      },
      {
       "output_type": "stream",
       "stream": "stdout",
       "text": [
        "\n",
        "Running model 'travel_model_output'\n",
        "Time to execute model 'travel_model_output': 17.52s"
       ]
      },
      {
       "output_type": "stream",
       "stream": "stdout",
       "text": [
        "\n",
        "Total time to execute year 2011: 202.80s\n",
        "Finished Wed Jan 14 12:53:25 2015\n"
       ]
      },
      {
       "output_type": "stream",
       "stream": "stderr",
       "text": [
        "/Users/ffoti/anaconda/lib/python2.7/site-packages/pandas/util/decorators.py:13: FutureWarning: diff is deprecated. Use difference instead\n",
        "  FutureWarning)\n"
       ]
      }
     ],
     "prompt_number": 2
    },
    {
     "cell_type": "code",
     "collapsed": false,
     "input": [],
     "language": "python",
     "metadata": {},
     "outputs": [],
     "prompt_number": 2
    }
   ],
   "metadata": {}
  }
 ]
}