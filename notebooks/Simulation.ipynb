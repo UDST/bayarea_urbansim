{
 "metadata": {
  "name": "",
  "signature": "sha256:be1b1474696a2d3a356716507c85bb69861e13328f309d8c938c4474b6f48ec3"
 },
 "nbformat": 3,
 "nbformat_minor": 0,
 "worksheets": [
  {
   "cells": [
    {
     "cell_type": "code",
     "collapsed": true,
     "input": [
      "%load_ext autoreload\n",
      "%autoreload 2\n",
      "if 'sim' not in globals():\n",
      "    import os; os.chdir('..')\n",
      "import models\n",
      "import time\n",
      "import urbansim.sim.simulation as sim"
     ],
     "language": "python",
     "metadata": {},
     "outputs": [],
     "prompt_number": 1
    },
    {
     "cell_type": "code",
     "collapsed": true,
     "input": [
      "print \"Started\", time.ctime()\n",
      "in_year, out_year = 2010, 2012\n",
      "\n",
      "sim.run([\n",
      "    \"neighborhood_vars\",         # accessibility variables\n",
      "\n",
      "    \"rsh_simulate\",              # residential sales hedonic\n",
      "    \"nrh_simulate\",              # non-residential rent hedonic\n",
      "\n",
      "    \"household_relocation\",\n",
      "    \"hlcm_simulate\",\n",
      "    \"household_transition\",\n",
      "\n",
      "    \"jobs_relocation\",\n",
      "    \"elcm_simulate\",\n",
      "    \"jobs_transition\",\n",
      "\n",
      "\n",
      "    \"price_vars\",\n",
      "\n",
      "    \"feasibility\",\n",
      "    \"residential_developer\",\n",
      "    \"nonresidential_developer\",\n",
      "     \n",
      "    \"diagnostic_output\",\n",
      "    \"travel_model_output\"\n",
      "], years=range(in_year, out_year))\n",
      "print \"Finished\", time.ctime()"
     ],
     "language": "python",
     "metadata": {},
     "outputs": [
      {
       "output_type": "stream",
       "stream": "stdout",
       "text": [
        "Started Tue Nov 11 11:29:14 2014\n",
        "Running year 2010\n",
        "Running model 'neighborhood_vars'\n",
        "Computing accessibility variables"
       ]
      },
      {
       "output_type": "stream",
       "stream": "stdout",
       "text": [
        "\n",
        "Computing sum_residential_units\n",
        "Filling column building_type_id with value 1.0 (17692 values)"
       ]
      },
      {
       "output_type": "stream",
       "stream": "stdout",
       "text": [
        "\n",
        "Filling column residential_units with value 0 (17692 values)\n",
        "Filling column year_built with value 1964.0 (251406 values)"
       ]
      },
      {
       "output_type": "stream",
       "stream": "stdout",
       "text": [
        "\n",
        "Filling column non_residential_sqft with value 0 (34223 values)\n",
        "Filling column shape_area with value 594.886657715 (114 values)"
       ]
      },
      {
       "output_type": "stream",
       "stream": "stdout",
       "text": [
        "\n",
        "Filling column zone_id with value 1178.0 (114 values)"
       ]
      },
      {
       "output_type": "stream",
       "stream": "stdout",
       "text": [
        "\n",
        "Computing sum_nonresidential_units"
       ]
      },
      {
       "output_type": "stream",
       "stream": "stdout",
       "text": [
        "\n",
        "Computing ave_sqft_per_unit"
       ]
      },
      {
       "output_type": "stream",
       "stream": "stdout",
       "text": [
        "\n",
        "Computing ave_lot_size_per_unit"
       ]
      },
      {
       "output_type": "stream",
       "stream": "stdout",
       "text": [
        "\n",
        "Computing population"
       ]
      },
      {
       "output_type": "stream",
       "stream": "stdout",
       "text": [
        "\n",
        "Removed 14076 rows because they contain missing values"
       ]
      },
      {
       "output_type": "stream",
       "stream": "stdout",
       "text": [
        "\n",
        "Computing poor"
       ]
      },
      {
       "output_type": "stream",
       "stream": "stdout",
       "text": [
        "\n",
        "Removed 5079 rows because they contain missing values"
       ]
      },
      {
       "output_type": "stream",
       "stream": "stdout",
       "text": [
        "\n",
        "Computing renters"
       ]
      },
      {
       "output_type": "stream",
       "stream": "stdout",
       "text": [
        "\n",
        "Removed 5971 rows because they contain missing values"
       ]
      },
      {
       "output_type": "stream",
       "stream": "stdout",
       "text": [
        "\n",
        "Computing sfdu"
       ]
      },
      {
       "output_type": "stream",
       "stream": "stdout",
       "text": [
        "\n",
        "Computing ave_hhsize"
       ]
      },
      {
       "output_type": "stream",
       "stream": "stdout",
       "text": [
        "\n",
        "Removed 14076 rows because they contain missing values"
       ]
      },
      {
       "output_type": "stream",
       "stream": "stdout",
       "text": [
        "\n",
        "Computing jobs"
       ]
      },
      {
       "output_type": "stream",
       "stream": "stdout",
       "text": [
        "\n",
        "Removed 148710 rows because they contain missing values"
       ]
      },
      {
       "output_type": "stream",
       "stream": "stdout",
       "text": [
        "\n",
        "Computing ave_income"
       ]
      },
      {
       "output_type": "stream",
       "stream": "stdout",
       "text": [
        "\n",
        "Removed 14076 rows because they contain missing values"
       ]
      },
      {
       "output_type": "stream",
       "stream": "stdout",
       "text": [
        "\n",
        "       sum_residential_units  sum_nonresidential_units  ave_sqft_per_unit  \\\n",
        "count          226060.000000             226060.000000      226060.000000   \n",
        "mean                5.959171                  6.379528           7.483579   \n",
        "std                 1.771903                  1.891947           0.983258   \n",
        "min                 0.000000                  0.000000           0.000000   \n",
        "25%                 5.467156                  5.504745           7.299118   \n",
        "50%                 6.410524                  6.628067           7.495368   \n",
        "75%                 7.023556                  7.601275           7.805410   \n",
        "max                10.139400                 12.389406          14.022834   \n",
        "\n",
        "       ave_lot_size_per_unit     population           poor        renters  \\\n",
        "count          226060.000000  226060.000000  226060.000000  226060.000000   \n",
        "mean                9.298278       6.875524       5.382874       5.390930   \n",
        "std                 1.841779       1.843690       1.831038       1.634224   \n",
        "min                 0.000000       0.000000       0.000000       0.000000   \n",
        "25%                 8.614366       6.422864       4.622566       5.001300   \n",
        "50%                 8.982795       7.382371       5.726997       5.897705   \n",
        "75%                 9.623702       7.983245       6.561895       6.402221   \n",
        "max                17.130289      10.437380       9.869967       8.485800   \n",
        "\n",
        "                sfdu     ave_hhsize           jobs     ave_income  \n",
        "count  226060.000000  226060.000000  226060.000000  226060.000000  \n",
        "mean        5.229726       1.289112       5.951476      11.128617  \n",
        "std         1.748419       0.201028       1.809135       1.443564  \n",
        "min         0.000000       0.000000       0.000000       0.000000  \n",
        "25%         4.691915       1.237874       5.134082      11.083780  \n",
        "50%         5.870173       1.308955       6.181096      11.304513  \n",
        "75%         6.405925       1.373032       7.080393      11.513828  \n",
        "max         7.721668       2.525729      11.950737      13.043323  "
       ]
      },
      {
       "output_type": "stream",
       "stream": "stdout",
       "text": [
        "\n",
        "Time to execute model 'neighborhood_vars': 56.04s\n",
        "Running model 'rsh_simulate'\n",
        "count    1918567.000000\n",
        "mean         328.512742\n",
        "std          177.913917\n",
        "min           20.129057\n",
        "25%          177.093343\n",
        "50%          278.611650\n",
        "75%          420.588041\n",
        "max         1259.989695\n",
        "dtype: float64"
       ]
      },
      {
       "output_type": "stream",
       "stream": "stdout",
       "text": [
        "\n",
        "Time to execute model 'rsh_simulate': 5.27s"
       ]
      },
      {
       "output_type": "stream",
       "stream": "stdout",
       "text": [
        "\n",
        "Running model 'nrh_simulate'\n",
        "count    116797.000000\n",
        "mean         17.331996\n",
        "std           5.932696\n",
        "min           1.984787\n",
        "25%          10.250877\n",
        "50%          19.089835\n",
        "75%          21.548487\n",
        "max          43.158583\n",
        "dtype: float64"
       ]
      },
      {
       "output_type": "stream",
       "stream": "stdout",
       "text": [
        "\n",
        "Time to execute model 'nrh_simulate': 2.24s"
       ]
      },
      {
       "output_type": "stream",
       "stream": "stdout",
       "text": [
        "\n",
        "Running model 'calc_prop_taxes'\n",
        "Sample rows from property tax accts:"
       ]
      },
      {
       "output_type": "stream",
       "stream": "stdout",
       "text": [
        "\n",
        "              amount  subaccount              description  year\n",
        "102  18460735.790769         101  Collecting property tax  2010\n",
        "27    9771889.656778          26  Collecting property tax  2010\n",
        "95    5078068.601959          94  Collecting property tax  2010\n",
        "1     4154113.182462          -1  Collecting property tax  2010\n",
        "28    2713616.058954          27  Collecting property tax  2010\n",
        "6     2584607.727470           5  Collecting property tax  2010\n",
        "30    2249535.313601          29  Collecting property tax  2010\n",
        "Time to execute model 'calc_prop_taxes': 10.26s\n",
        "Running model 'households_transition'\n",
        "Total agents before transition: 2608023"
       ]
      },
      {
       "output_type": "stream",
       "stream": "stdout",
       "text": [
        "\n",
        "Total agents after transition: 2608027"
       ]
      },
      {
       "output_type": "stream",
       "stream": "stdout",
       "text": [
        "\n",
        "Time to execute model 'households_transition': 3.52s\n",
        "Running model 'price_vars'\n",
        "Computing accessibility variables\n",
        "Computing residential\n",
        "Computing retail"
       ]
      },
      {
       "output_type": "stream",
       "stream": "stdout",
       "text": [
        "\n",
        "Computing office"
       ]
      },
      {
       "output_type": "stream",
       "stream": "stdout",
       "text": [
        "\n",
        "Computing industrial"
       ]
      },
      {
       "output_type": "stream",
       "stream": "stdout",
       "text": [
        "\n",
        "         residential         retail         office     industrial\n",
        "count  226060.000000  226060.000000  226060.000000  226060.000000\n",
        "mean      324.265033      17.940905      18.634334       7.821100\n",
        "std       177.166022       6.845849       6.355697       3.269070\n",
        "min         0.000000       0.000000       0.000000       0.000000\n",
        "25%       180.200417      16.487324      18.686859       8.049538\n",
        "50%       274.153305      19.498459      20.763134       8.851870\n",
        "75%       413.796082      22.162489      21.822366       9.535944\n",
        "max      1110.007446      39.543636      27.082687      14.522486"
       ]
      },
      {
       "output_type": "stream",
       "stream": "stdout",
       "text": [
        "\n",
        "Time to execute model 'price_vars': 20.59s"
       ]
      },
      {
       "output_type": "stream",
       "stream": "stdout",
       "text": [
        "\n",
        "Running model 'subsidized_residential_developer'\n",
        "Describe of the yearly rent by use"
       ]
      },
      {
       "output_type": "stream",
       "stream": "stdout",
       "text": [
        "\n",
        "               retail      industrial          office     residential\n",
        "count  1513115.000000  1513115.000000  1513115.000000  1512835.000000\n",
        "mean        18.731864        8.011690       19.600804       19.085757\n",
        "std          5.278723        2.888720        4.538120       10.269157\n",
        "min          0.000000        0.000000        0.000000        3.136657\n",
        "25%         17.140301        8.207291       18.958872       10.506933\n",
        "50%         19.613832        8.846386       20.805853       16.231617\n",
        "75%         21.911263        9.417124       21.686730       24.088081\n",
        "max         39.543636       14.522486       27.082687       66.706978"
       ]
      },
      {
       "output_type": "stream",
       "stream": "stdout",
       "text": [
        "\n",
        "Computing feasibility for form residential\n",
        "Subaccount: "
       ]
      },
      {
       "output_type": "stream",
       "stream": "stdout",
       "text": [
        " -2\n",
        "Subaccount:  -1\n",
        "Amount in subaccount: $4,154,113.18\n",
        "Building 11 subsidized buildings\n",
        "Amount left after subsidy: $125,033.84"
       ]
      },
      {
       "output_type": "stream",
       "stream": "stdout",
       "text": [
        "\n",
        "Subaccount:  1\n",
        "Amount in subaccount: $93,298.57\n",
        "Building 3 subsidized buildings\n",
        "Amount left after subsidy: $26,949.65"
       ]
      },
      {
       "output_type": "stream",
       "stream": "stdout",
       "text": [
        "\n",
        "Subaccount:  2\n",
        "Amount in subaccount: $1,302,986.76\n",
        "Building 8 subsidized buildings\n",
        "Amount left after subsidy: $202,586.57"
       ]
      },
      {
       "output_type": "stream",
       "stream": "stdout",
       "text": [
        "\n",
        "Subaccount:  3\n",
        "Amount in subaccount: $472,686.86\n",
        "Building 3 subsidized buildings\n",
        "Amount left after subsidy: $29,251.65"
       ]
      },
      {
       "output_type": "stream",
       "stream": "stdout",
       "text": [
        "\n",
        "Subaccount:  4\n",
        "Amount in subaccount: $596,228.73\n",
        "Building 6 subsidized buildings\n",
        "Amount left after subsidy: $66,633.66"
       ]
      },
      {
       "output_type": "stream",
       "stream": "stdout",
       "text": [
        "\n",
        "Subaccount:  5\n",
        "Amount in subaccount: $2,584,607.73\n",
        "Building 15 subsidized buildings\n",
        "Amount left after subsidy: $65,561.59"
       ]
      },
      {
       "output_type": "stream",
       "stream": "stdout",
       "text": [
        "\n",
        "Subaccount:  6\n",
        "Subaccount:  7\n",
        "Subaccount:  8\n",
        "Subaccount:  9\n",
        "Subaccount:  10\n",
        "Amount in subaccount: $477,690.62\n",
        "Subaccount:  11\n",
        "Amount in subaccount: $37,014.27\n",
        "Subaccount:  12\n",
        "Amount in subaccount: $77,442.49\n",
        "Subaccount:  13\n",
        "Subaccount:  14\n",
        "Amount in subaccount: $753,176.52\n",
        "Building 4 subsidized buildings\n",
        "Amount left after subsidy: $447,523.81"
       ]
      },
      {
       "output_type": "stream",
       "stream": "stdout",
       "text": [
        "\n",
        "Subaccount:  15\n",
        "Amount in subaccount: $392,428.70\n",
        "Subaccount:  16\n",
        "Amount in subaccount: $1,675,139.14\n",
        "Building 2 subsidized buildings\n",
        "Amount left after subsidy: $233,953.51"
       ]
      },
      {
       "output_type": "stream",
       "stream": "stdout",
       "text": [
        "\n",
        "Subaccount:  17\n",
        "Subaccount:  18\n",
        "Subaccount:  19\n",
        "Amount in subaccount: $170,691.06\n",
        "Subaccount:  20\n",
        "Subaccount:  21\n",
        "Amount in subaccount: $687,913.27\n",
        "Building 4 subsidized buildings\n",
        "Amount left after subsidy: $113,775.73"
       ]
      },
      {
       "output_type": "stream",
       "stream": "stdout",
       "text": [
        "\n",
        "Subaccount:  22\n",
        "Subaccount:  23\n",
        "Amount in subaccount: $420,996.29\n",
        "Building 1 subsidized buildings\n",
        "Amount left after subsidy: $169,627.73"
       ]
      },
      {
       "output_type": "stream",
       "stream": "stdout",
       "text": [
        "\n",
        "Subaccount:  24\n",
        "Subaccount:  25\n",
        "Amount in subaccount: $2,067,837.71\n",
        "Building 6 subsidized buildings\n",
        "Amount left after subsidy: $1,942,228.40"
       ]
      },
      {
       "output_type": "stream",
       "stream": "stdout",
       "text": [
        "\n",
        "Subaccount:  26\n",
        "Amount in subaccount: $9,771,889.66\n",
        "Building 140 subsidized buildings\n",
        "Amount left after subsidy: $2,022,580.89"
       ]
      },
      {
       "output_type": "stream",
       "stream": "stdout",
       "text": [
        "\n",
        "Subaccount:  27\n",
        "Subaccount:  28\n",
        "Amount in subaccount: $142,937.18\n",
        "Subaccount:  29\n",
        "Amount in subaccount: $2,249,535.31\n",
        "Subaccount:  30\n",
        "Amount in subaccount: $439,100.10\n",
        "Building 8 subsidized buildings\n",
        "Amount left after subsidy: $160,911.68"
       ]
      },
      {
       "output_type": "stream",
       "stream": "stdout",
       "text": [
        "\n",
        "Subaccount:  31\n",
        "Amount in subaccount: $1,086,323.43\n",
        "Building 11 subsidized buildings\n",
        "Amount left after subsidy: $74,129.30"
       ]
      },
      {
       "output_type": "stream",
       "stream": "stdout",
       "text": [
        "\n",
        "Subaccount:  32\n",
        "Amount in subaccount: $1,325,946.90\n",
        "Building 16 subsidized buildings\n",
        "Amount left after subsidy: $80,564.42"
       ]
      },
      {
       "output_type": "stream",
       "stream": "stdout",
       "text": [
        "\n",
        "Subaccount:  33\n",
        "Subaccount:  34\n",
        "Amount in subaccount: $108,238.15\n",
        "Building 3 subsidized buildings\n",
        "Amount left after subsidy: $37,070.21"
       ]
      },
      {
       "output_type": "stream",
       "stream": "stdout",
       "text": [
        "\n",
        "Subaccount:  35\n",
        "Subaccount:  36\n",
        "Subaccount:  37\n",
        "Amount in subaccount: $2,175,725.72\n",
        "Building 18 subsidized buildings\n",
        "Amount left after subsidy: $229,409.74"
       ]
      },
      {
       "output_type": "stream",
       "stream": "stdout",
       "text": [
        "\n",
        "Subaccount:  38\n",
        "Amount in subaccount: $326,141.87\n",
        "Building 9 subsidized buildings\n",
        "Amount left after subsidy: $50,526.78"
       ]
      },
      {
       "output_type": "stream",
       "stream": "stdout",
       "text": [
        "\n",
        "Subaccount:  39\n",
        "Subaccount:  40\n",
        "Amount in subaccount: $802,394.55\n",
        "Building 1 subsidized buildings\n",
        "Amount left after subsidy: $624,519.83"
       ]
      },
      {
       "output_type": "stream",
       "stream": "stdout",
       "text": [
        "\n",
        "Subaccount:  41\n",
        "Subaccount:  42\n",
        "Subaccount:  43\n",
        "Subaccount:  44\n",
        "Subaccount:  45\n",
        "Subaccount:  46\n",
        "Amount in subaccount: $154,648.32\n",
        "Building 1 subsidized buildings\n",
        "Subaccount: "
       ]
      },
      {
       "output_type": "stream",
       "stream": "stdout",
       "text": [
        " 47\n",
        "Subaccount:  48\n",
        "Subaccount:  49\n",
        "Subaccount:  50\n",
        "Amount in subaccount: $479,648.84\n",
        "Subaccount:  51\n",
        "Subaccount:  52\n",
        "Subaccount:  53\n",
        "Amount in subaccount: $107,423.23\n",
        "Subaccount:  54\n",
        "Subaccount:  55\n",
        "Amount in subaccount: $627,685.70\n",
        "Building 5 subsidized buildings\n",
        "Amount left after subsidy: $223,225.77"
       ]
      },
      {
       "output_type": "stream",
       "stream": "stdout",
       "text": [
        "\n",
        "Subaccount:  56\n",
        "Subaccount:  57\n",
        "Subaccount:  58\n",
        "Subaccount:  59\n",
        "Subaccount:  60\n",
        "Subaccount:  61\n",
        "Subaccount:  62\n",
        "Subaccount:  63\n",
        "Subaccount:  64\n",
        "Subaccount:  65\n",
        "Amount in subaccount: $1,053,843.81\n",
        "Building 5 subsidized buildings\n",
        "Amount left after subsidy: $184,237.65"
       ]
      },
      {
       "output_type": "stream",
       "stream": "stdout",
       "text": [
        "\n",
        "Subaccount:  66\n",
        "Subaccount:  67\n",
        "Subaccount:  68\n",
        "Amount in subaccount: $511,542.40\n",
        "Subaccount:  69\n",
        "Subaccount:  70\n",
        "Amount in subaccount: $25,020.31\n",
        "Subaccount:  71\n",
        "Subaccount:  72\n",
        "Subaccount:  73\n",
        "Subaccount:  74\n",
        "Amount in subaccount: $328,194.22\n",
        "Subaccount:  75\n",
        "Amount in subaccount: $74,090.61\n",
        "Subaccount:  76\n",
        "Amount in subaccount: $121,010.51\n",
        "Subaccount:  77\n",
        "Subaccount:  78\n",
        "Amount in subaccount: $1,000,802.19\n",
        "Building 4 subsidized buildings\n",
        "Amount left after subsidy: $188,271.89"
       ]
      },
      {
       "output_type": "stream",
       "stream": "stdout",
       "text": [
        "\n",
        "Subaccount:  79\n",
        "Subaccount:  80\n",
        "Subaccount:  81\n",
        "Subaccount:  82\n",
        "Subaccount:  83\n",
        "Amount in subaccount: $1,246,120.34\n",
        "Building 9 subsidized buildings\n",
        "Amount left after subsidy: $269,884.58"
       ]
      },
      {
       "output_type": "stream",
       "stream": "stdout",
       "text": [
        "\n",
        "Subaccount:  84\n",
        "Subaccount:  85\n",
        "Subaccount:  86\n",
        "Subaccount:  87\n",
        "Subaccount:  88\n",
        "Subaccount:  89\n",
        "Amount in subaccount: $188,018.49\n",
        "Building 5 subsidized buildings\n",
        "Amount left after subsidy: $9,693.47"
       ]
      },
      {
       "output_type": "stream",
       "stream": "stdout",
       "text": [
        "\n",
        "Subaccount:  90\n",
        "Amount in subaccount: $96,402.59\n",
        "Subaccount:  91\n",
        "Amount in subaccount: $245,599.96\n",
        "Building 5 subsidized buildings\n",
        "Amount left after subsidy: $169,078.03"
       ]
      },
      {
       "output_type": "stream",
       "stream": "stdout",
       "text": [
        "\n",
        "Subaccount:  92\n",
        "Subaccount:  93\n",
        "Subaccount:  94\n",
        "Amount in subaccount: $5,078,068.60\n",
        "Building 37 subsidized buildings\n",
        "Amount left after subsidy: $47,454.66"
       ]
      },
      {
       "output_type": "stream",
       "stream": "stdout",
       "text": [
        "\n",
        "Subaccount:  95\n",
        "Subaccount:  96\n",
        "Subaccount:  97\n",
        "Subaccount:  98\n",
        "Amount in subaccount: $1,987,587.81\n",
        "Building 2 subsidized buildings\n",
        "Amount left after subsidy: $318,076.46"
       ]
      },
      {
       "output_type": "stream",
       "stream": "stdout",
       "text": [
        "\n",
        "Subaccount:  99\n",
        "Subaccount:  100\n",
        "Subaccount:  101\n",
        "Amount in subaccount: $18,460,735.79\n",
        "Building 69 subsidized buildings\n",
        "Amount left after subsidy: $9,729,104.93"
       ]
      },
      {
       "output_type": "stream",
       "stream": "stdout",
       "text": [
        "\n",
        "Built 360 total subsidized buildings"
       ]
      },
      {
       "output_type": "stream",
       "stream": "stdout",
       "text": [
        "\n",
        "    Total subsidy: $42,891,341.40\n",
        "    Total subsidzed units: 6839\n",
        "Time to execute model 'subsidized_residential_developer': 136.09s\n",
        "Total time to execute year 2010: 234.01s\n",
        "Finished Tue Nov 11 11:33:08 2014\n"
       ]
      },
      {
       "output_type": "stream",
       "stream": "stderr",
       "text": [
        "/Users/ffoti/anaconda/lib/python2.7/site-packages/pandas/util/decorators.py:13: FutureWarning: diff is deprecated. Use difference instead\n",
        "  FutureWarning)\n"
       ]
      }
     ],
     "prompt_number": 2
    },
    {
     "cell_type": "code",
     "collapsed": false,
     "input": [],
     "language": "python",
     "metadata": {},
     "outputs": [],
     "prompt_number": 2
    }
   ],
   "metadata": {}
  }
 ]
}